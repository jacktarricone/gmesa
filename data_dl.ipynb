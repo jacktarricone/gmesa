{
 "cells": [
  {
   "cell_type": "code",
   "execution_count": 11,
   "id": "30fb5ac0-e32d-4dd6-ac13-acaa4472fc4b",
   "metadata": {},
   "outputs": [],
   "source": [
    "from uavsar_pytools import UavsarCollection\n",
    "import asf_search as asf\n",
    "from date import datetime"
   ]
  },
  {
   "cell_type": "code",
   "execution_count": 7,
   "id": "e7179e6d-d462-4806-9308-8ef760e7a25e",
   "metadata": {},
   "outputs": [],
   "source": [
    "## Collection name from the campaign list\n",
    "col_name = 'Grand Mesa, CO'\n",
    "\n",
    "## Working directory to save files into\n",
    "work_d = 'data/'\n",
    "\n",
    "## Optional dates to check between\n",
    "dates = ('2021-01-01','2021-05-01')"
   ]
  },
  {
   "cell_type": "code",
   "execution_count": 8,
   "id": "44848a90-78bc-44c7-ad40-464d52a57f43",
   "metadata": {},
   "outputs": [
    {
     "name": "stderr",
     "output_type": "stream",
     "text": [
      "INFO:uavsar_pytools.uavsar_collection:Found 6 image pairs\n",
      "INFO:uavsar_pytools.uavsar_collection:Starting on: https://datapool.asf.alaska.edu/INTERFEROMETRY_GRD/UA/grmesa_27416_21019-017_21021-005_0006d_s01_L090_01_int_grd.zip\n"
     ]
    },
    {
     "data": {
      "application/vnd.jupyter.widget-view+json": {
       "model_id": "a0794da587754ff9907f5bb8d3ea12ad",
       "version_major": 2,
       "version_minor": 0
      },
      "text/plain": [
       "Downloading grmesa_27416_21019-017_21021-005_0006d_s01_L090_01_int_grd.zip:   0%|          | 0.00/1.11G [00:00…"
      ]
     },
     "metadata": {},
     "output_type": "display_data"
    },
    {
     "name": "stderr",
     "output_type": "stream",
     "text": [
      "Unzipping: 100%|████████████████████████████████| 5/5 [00:05<00:00,  1.06s/file]\n",
      "INFO:uavsar_pytools.uavsar_collection:Starting on: https://datapool.asf.alaska.edu/INTERFEROMETRY_GRD/UA/grmesa_27416_21017-017_21019-017_0006d_s01_L090_01_int_grd.zip\n"
     ]
    },
    {
     "name": "stdout",
     "output_type": "stream",
     "text": [
      "Completed 16-Mar-2021 16:39:43 UTC to 22-Mar-2021 15:30:53 UTC\n"
     ]
    },
    {
     "data": {
      "application/vnd.jupyter.widget-view+json": {
       "model_id": "fd5dbf1609724931bf1135ce493558e6",
       "version_major": 2,
       "version_minor": 0
      },
      "text/plain": [
       "Downloading grmesa_27416_21017-017_21019-017_0006d_s01_L090_01_int_grd.zip:   0%|          | 0.00/1.11G [00:00…"
      ]
     },
     "metadata": {},
     "output_type": "display_data"
    },
    {
     "name": "stderr",
     "output_type": "stream",
     "text": [
      "Unzipping: 100%|████████████████████████████████| 5/5 [00:05<00:00,  1.03s/file]\n",
      "INFO:uavsar_pytools.uavsar_collection:Starting on: https://datapool.asf.alaska.edu/INTERFEROMETRY_GRD/UA/grmesa_27416_21016-002_21017-017_0007d_s01_L090_01_int_grd.zip\n"
     ]
    },
    {
     "name": "stdout",
     "output_type": "stream",
     "text": [
      "Completed 10-Mar-2021 16:36:24 UTC to 16-Mar-2021 16:39:43 UTC\n"
     ]
    },
    {
     "data": {
      "application/vnd.jupyter.widget-view+json": {
       "model_id": "5332708ca5514444a43dd48c2ab5f896",
       "version_major": 2,
       "version_minor": 0
      },
      "text/plain": [
       "Downloading grmesa_27416_21016-002_21017-017_0007d_s01_L090_01_int_grd.zip:   0%|          | 0.00/1.46G [00:00…"
      ]
     },
     "metadata": {},
     "output_type": "display_data"
    },
    {
     "name": "stderr",
     "output_type": "stream",
     "text": [
      "Unzipping: 100%|████████████████████████████████| 5/5 [00:07<00:00,  1.50s/file]\n",
      "INFO:uavsar_pytools.uavsar_collection:Starting on: https://datapool.asf.alaska.edu/INTERFEROMETRY_GRD/UA/grmesa_27416_21011-010_21016-002_0021d_s01_L090_01_int_grd.zip\n"
     ]
    },
    {
     "name": "stdout",
     "output_type": "stream",
     "text": [
      "Completed 3-Mar-2021 22:03:00 UTC to 10-Mar-2021 16:36:09 UTC\n"
     ]
    },
    {
     "data": {
      "application/vnd.jupyter.widget-view+json": {
       "model_id": "c052700e1a354d6eaf7eb1cecb0a943f",
       "version_major": 2,
       "version_minor": 0
      },
      "text/plain": [
       "Downloading grmesa_27416_21011-010_21016-002_0021d_s01_L090_01_int_grd.zip:   0%|          | 0.00/1.46G [00:00…"
      ]
     },
     "metadata": {},
     "output_type": "display_data"
    },
    {
     "name": "stderr",
     "output_type": "stream",
     "text": [
      "Unzipping: 100%|████████████████████████████████| 5/5 [00:09<00:00,  1.85s/file]\n",
      "INFO:uavsar_pytools.uavsar_collection:Starting on: https://datapool.asf.alaska.edu/INTERFEROMETRY_GRD/UA/grmesa_27416_21010-002_21011-010_0007d_s01_L090_01_int_grd.zip\n"
     ]
    },
    {
     "name": "stdout",
     "output_type": "stream",
     "text": [
      "Completed 10-Feb-2021 19:12:13 UTC to 3-Mar-2021 22:03:01 UTC\n"
     ]
    },
    {
     "data": {
      "application/vnd.jupyter.widget-view+json": {
       "model_id": "d87058a3581e4add93467bf066a693a5",
       "version_major": 2,
       "version_minor": 0
      },
      "text/plain": [
       "Downloading grmesa_27416_21010-002_21011-010_0007d_s01_L090_01_int_grd.zip:   0%|          | 0.00/1.11G [00:00…"
      ]
     },
     "metadata": {},
     "output_type": "display_data"
    },
    {
     "name": "stderr",
     "output_type": "stream",
     "text": [
      "Unzipping: 100%|████████████████████████████████| 5/5 [00:06<00:00,  1.27s/file]\n",
      "INFO:uavsar_pytools.uavsar_collection:Starting on: https://datapool.asf.alaska.edu/INTERFEROMETRY_GRD/UA/grmesa_27416_21007-004_21010-002_0007d_s01_L090_01_int_grd.zip\n"
     ]
    },
    {
     "name": "stdout",
     "output_type": "stream",
     "text": [
      "Completed 3-Feb-2021 23:50:36 UTC to 10-Feb-2021 19:12:27 UTC\n"
     ]
    },
    {
     "data": {
      "application/vnd.jupyter.widget-view+json": {
       "model_id": "dd80bcda907542559d1818b9b5966096",
       "version_major": 2,
       "version_minor": 0
      },
      "text/plain": [
       "Downloading grmesa_27416_21007-004_21010-002_0007d_s01_L090_01_int_grd.zip:   0%|          | 0.00/1.47G [00:00…"
      ]
     },
     "metadata": {},
     "output_type": "display_data"
    },
    {
     "name": "stderr",
     "output_type": "stream",
     "text": [
      "Unzipping: 100%|████████████████████████████████| 5/5 [00:07<00:00,  1.59s/file]\n"
     ]
    },
    {
     "name": "stdout",
     "output_type": "stream",
     "text": [
      "Completed 27-Jan-2021 19:47:02 UTC to 3-Feb-2021 23:50:19 UTC\n"
     ]
    }
   ],
   "source": [
    "collection = UavsarCollection(collection = col_name, work_dir = work_d, dates = dates, pols = ['VV'])\n",
    "\n",
    "# Optional keywords: to keep binary files use `clean = False`, to download incidence angles \n",
    "# with each image use `inc = True`, for only certain pols use `pols = ['VV','HV']`.\n",
    "# See docstring of class for full list.\n",
    "\n",
    "collection.collection_to_tiffs()"
   ]
  },
  {
   "cell_type": "code",
   "execution_count": 13,
   "id": "0cf2e7e8-aafa-4840-aa24-20c5f9e06eb3",
   "metadata": {},
   "outputs": [],
   "source": [
    "# define search parameters for sierra flight line\n",
    "start_date = datetime.strptime('2021-01-01 11:00:00', '%Y-%m-%d %H:%M:%S') \n",
    "end_date = datetime.strptime('2021-05-21 11:00:00', '%Y-%m-%d %H:%M:%S') "
   ]
  },
  {
   "cell_type": "code",
   "execution_count": 14,
   "id": "3d40c28a-326f-4d94-8e25-73caad181d99",
   "metadata": {},
   "outputs": [
    {
     "name": "stdout",
     "output_type": "stream",
     "text": [
      "6 product(s) found\n"
     ]
    }
   ],
   "source": [
    "# search for data\n",
    "results = asf.search(platform = 'UAVSAR',\n",
    "                     processingLevel = (['INTERFEROMETRY_GRD']),\n",
    "                     campaign = 'Grand Mesa, CO',\n",
    "                     start = start_date,\n",
    "                     end = end_date)\n",
    "\n",
    "print(f'{len(results)} product(s) found')"
   ]
  },
  {
   "cell_type": "code",
   "execution_count": 17,
   "id": "23ff6fd7-9fc8-461b-b53f-2ca8b7a0e1ff",
   "metadata": {},
   "outputs": [
    {
     "name": "stdout",
     "output_type": "stream",
     "text": [
      "{\n",
      "  \"features\": [\n",
      "    {\n",
      "      \"geometry\": {\n",
      "        \"coordinates\": [\n",
      "          [\n",
      "            [\n",
      "              -108.288508,\n",
      "              39.157898\n",
      "            ],\n",
      "            [\n",
      "              -107.916209,\n",
      "              39.121269\n",
      "            ],\n",
      "            [\n",
      "              -107.928515,\n",
      "              38.957648\n",
      "            ],\n",
      "            [\n",
      "              -108.299814,\n",
      "              38.979789\n",
      "            ],\n",
      "            [\n",
      "              -108.288508,\n",
      "              39.157898\n",
      "            ]\n",
      "          ]\n",
      "        ],\n",
      "        \"type\": \"Polygon\"\n",
      "      },\n",
      "      \"properties\": {\n",
      "        \"beamModeType\": \"RPI\",\n",
      "        \"browse\": [\n",
      "          \"https://datapool.asf.alaska.edu/BROWSE/UA/grmesa_27416_21019-017_21021-005_0006d_s01_L090HH_01.cor.png\",\n",
      "          \"https://datapool.asf.alaska.edu/BROWSE/UA/grmesa_27416_21019-017_21021-005_0006d_s01_L090HH_01.hgt.png\",\n",
      "          \"https://datapool.asf.alaska.edu/BROWSE/UA/grmesa_27416_21019-017_21021-005_0006d_s01_L090HV_01.cor.png\",\n",
      "          \"https://datapool.asf.alaska.edu/BROWSE/UA/grmesa_27416_21019-017_21021-005_0006d_s01_L090HV_01.hgt.png\",\n",
      "          \"https://datapool.asf.alaska.edu/BROWSE/UA/grmesa_27416_21019-017_21021-005_0006d_s01_L090VH_01.cor.png\",\n",
      "          \"https://datapool.asf.alaska.edu/BROWSE/UA/grmesa_27416_21019-017_21021-005_0006d_s01_L090VH_01.hgt.png\",\n",
      "          \"https://datapool.asf.alaska.edu/BROWSE/UA/grmesa_27416_21019-017_21021-005_0006d_s01_L090VV_01.cor.png\",\n",
      "          \"https://datapool.asf.alaska.edu/BROWSE/UA/grmesa_27416_21019-017_21021-005_0006d_s01_L090VV_01.hgt.png\"\n",
      "        ],\n",
      "        \"bytes\": \"1112873332\",\n",
      "        \"centerLat\": \"39.0545480565216\",\n",
      "        \"centerLon\": \"-108.110831843488\",\n",
      "        \"faradayRotation\": null,\n",
      "        \"fileID\": \"UA_grmesa_27416_21019-017_21021-005_0006d_s01_L090_01-INTERFEROMETRY_GRD\",\n",
      "        \"fileName\": \"grmesa_27416_21019-017_21021-005_0006d_s01_L090_01_int_grd.zip\",\n",
      "        \"flightDirection\": null,\n",
      "        \"frameNumber\": \"781\",\n",
      "        \"granuleType\": \"UAVSAR_INSAR_SCENE\",\n",
      "        \"groupID\": \"UA_grmesa_27416_21019-017_21021-005_0006d_s01_L090_01\",\n",
      "        \"insarStackId\": \"-1\",\n",
      "        \"md5sum\": \"55a0e8c23ce4e6b16288c57b4826aed0\",\n",
      "        \"offNadirAngle\": null,\n",
      "        \"orbit\": \"-1\",\n",
      "        \"pathNumber\": \"27416\",\n",
      "        \"perpendicularBaseline\": null,\n",
      "        \"platform\": \"UAVSAR\",\n",
      "        \"pointingAngle\": null,\n",
      "        \"polarization\": \"HH\",\n",
      "        \"processingDate\": \"2021-04-20T14:05:11Z\",\n",
      "        \"processingLevel\": \"INTERFEROMETRY_GRD\",\n",
      "        \"sceneName\": \"UA_grmesa_27416_21019-017_21021-005_0006d_s01_L090_01\",\n",
      "        \"sensor\": \"UAVSAR\",\n",
      "        \"startTime\": \"2021-03-16T16:39:43Z\",\n",
      "        \"stopTime\": \"2021-03-22T15:30:53Z\",\n",
      "        \"temporalBaseline\": null,\n",
      "        \"url\": \"https://datapool.asf.alaska.edu/INTERFEROMETRY_GRD/UA/grmesa_27416_21019-017_21021-005_0006d_s01_L090_01_int_grd.zip\"\n",
      "      },\n",
      "      \"type\": \"Feature\"\n",
      "    },\n",
      "    {\n",
      "      \"geometry\": {\n",
      "        \"coordinates\": [\n",
      "          [\n",
      "            [\n",
      "              -108.29004,\n",
      "              39.158407\n",
      "            ],\n",
      "            [\n",
      "              -107.915802,\n",
      "              39.121253\n",
      "            ],\n",
      "            [\n",
      "              -107.925841,\n",
      "              38.957472\n",
      "            ],\n",
      "            [\n",
      "              -108.297486,\n",
      "              38.97964\n",
      "            ],\n",
      "            [\n",
      "              -108.29004,\n",
      "              39.158407\n",
      "            ]\n",
      "          ]\n",
      "        ],\n",
      "        \"type\": \"Polygon\"\n",
      "      },\n",
      "      \"properties\": {\n",
      "        \"beamModeType\": \"RPI\",\n",
      "        \"browse\": [\n",
      "          \"https://datapool.asf.alaska.edu/BROWSE/UA/grmesa_27416_21017-017_21019-017_0006d_s01_L090HH_01.cor.png\",\n",
      "          \"https://datapool.asf.alaska.edu/BROWSE/UA/grmesa_27416_21017-017_21019-017_0006d_s01_L090HH_01.hgt.png\",\n",
      "          \"https://datapool.asf.alaska.edu/BROWSE/UA/grmesa_27416_21017-017_21019-017_0006d_s01_L090HV_01.cor.png\",\n",
      "          \"https://datapool.asf.alaska.edu/BROWSE/UA/grmesa_27416_21017-017_21019-017_0006d_s01_L090HV_01.hgt.png\",\n",
      "          \"https://datapool.asf.alaska.edu/BROWSE/UA/grmesa_27416_21017-017_21019-017_0006d_s01_L090VH_01.cor.png\",\n",
      "          \"https://datapool.asf.alaska.edu/BROWSE/UA/grmesa_27416_21017-017_21019-017_0006d_s01_L090VH_01.hgt.png\",\n",
      "          \"https://datapool.asf.alaska.edu/BROWSE/UA/grmesa_27416_21017-017_21019-017_0006d_s01_L090VV_01.cor.png\",\n",
      "          \"https://datapool.asf.alaska.edu/BROWSE/UA/grmesa_27416_21017-017_21019-017_0006d_s01_L090VV_01.hgt.png\"\n",
      "        ],\n",
      "        \"bytes\": \"1111167659\",\n",
      "        \"centerLat\": \"39.054649784947\",\n",
      "        \"centerLon\": \"-108.109932476343\",\n",
      "        \"faradayRotation\": null,\n",
      "        \"fileID\": \"UA_grmesa_27416_21017-017_21019-017_0006d_s01_L090_01-INTERFEROMETRY_GRD\",\n",
      "        \"fileName\": \"grmesa_27416_21017-017_21019-017_0006d_s01_L090_01_int_grd.zip\",\n",
      "        \"flightDirection\": null,\n",
      "        \"frameNumber\": \"781\",\n",
      "        \"granuleType\": \"UAVSAR_INSAR_SCENE\",\n",
      "        \"groupID\": \"UA_grmesa_27416_21017-017_21019-017_0006d_s01_L090_01\",\n",
      "        \"insarStackId\": \"-1\",\n",
      "        \"md5sum\": \"51d46f594c035988b063d92da4ccb8d9\",\n",
      "        \"offNadirAngle\": null,\n",
      "        \"orbit\": \"-1\",\n",
      "        \"pathNumber\": \"27416\",\n",
      "        \"perpendicularBaseline\": null,\n",
      "        \"platform\": \"UAVSAR\",\n",
      "        \"pointingAngle\": null,\n",
      "        \"polarization\": \"HH\",\n",
      "        \"processingDate\": \"2021-04-16T00:20:18Z\",\n",
      "        \"processingLevel\": \"INTERFEROMETRY_GRD\",\n",
      "        \"sceneName\": \"UA_grmesa_27416_21017-017_21019-017_0006d_s01_L090_01\",\n",
      "        \"sensor\": \"UAVSAR\",\n",
      "        \"startTime\": \"2021-03-10T16:36:24Z\",\n",
      "        \"stopTime\": \"2021-03-16T16:39:43Z\",\n",
      "        \"temporalBaseline\": null,\n",
      "        \"url\": \"https://datapool.asf.alaska.edu/INTERFEROMETRY_GRD/UA/grmesa_27416_21017-017_21019-017_0006d_s01_L090_01_int_grd.zip\"\n",
      "      },\n",
      "      \"type\": \"Feature\"\n",
      "    },\n",
      "    {\n",
      "      \"geometry\": {\n",
      "        \"coordinates\": [\n",
      "          [\n",
      "            [\n",
      "              -108.365036,\n",
      "              39.171362\n",
      "            ],\n",
      "            [\n",
      "              -107.882198,\n",
      "              39.117054\n",
      "            ],\n",
      "            [\n",
      "              -107.891456,\n",
      "              38.954827\n",
      "            ],\n",
      "            [\n",
      "              -108.368928,\n",
      "              38.983958\n",
      "            ],\n",
      "            [\n",
      "              -108.365036,\n",
      "              39.171362\n",
      "            ]\n",
      "          ]\n",
      "        ],\n",
      "        \"type\": \"Polygon\"\n",
      "      },\n",
      "      \"properties\": {\n",
      "        \"beamModeType\": \"RPI\",\n",
      "        \"browse\": [\n",
      "          \"https://datapool.asf.alaska.edu/BROWSE/UA/grmesa_27416_21016-002_21017-017_0007d_s01_L090HH_01.cor.png\",\n",
      "          \"https://datapool.asf.alaska.edu/BROWSE/UA/grmesa_27416_21016-002_21017-017_0007d_s01_L090HH_01.hgt.png\",\n",
      "          \"https://datapool.asf.alaska.edu/BROWSE/UA/grmesa_27416_21016-002_21017-017_0007d_s01_L090HV_01.cor.png\",\n",
      "          \"https://datapool.asf.alaska.edu/BROWSE/UA/grmesa_27416_21016-002_21017-017_0007d_s01_L090HV_01.hgt.png\",\n",
      "          \"https://datapool.asf.alaska.edu/BROWSE/UA/grmesa_27416_21016-002_21017-017_0007d_s01_L090VH_01.cor.png\",\n",
      "          \"https://datapool.asf.alaska.edu/BROWSE/UA/grmesa_27416_21016-002_21017-017_0007d_s01_L090VH_01.hgt.png\",\n",
      "          \"https://datapool.asf.alaska.edu/BROWSE/UA/grmesa_27416_21016-002_21017-017_0007d_s01_L090VV_01.cor.png\",\n",
      "          \"https://datapool.asf.alaska.edu/BROWSE/UA/grmesa_27416_21016-002_21017-017_0007d_s01_L090VV_01.hgt.png\"\n",
      "        ],\n",
      "        \"bytes\": \"1462978222\",\n",
      "        \"centerLat\": \"39.0576946094825\",\n",
      "        \"centerLon\": \"-108.13248652742\",\n",
      "        \"faradayRotation\": null,\n",
      "        \"fileID\": \"UA_grmesa_27416_21016-002_21017-017_0007d_s01_L090_01-INTERFEROMETRY_GRD\",\n",
      "        \"fileName\": \"grmesa_27416_21016-002_21017-017_0007d_s01_L090_01_int_grd.zip\",\n",
      "        \"flightDirection\": null,\n",
      "        \"frameNumber\": \"781\",\n",
      "        \"granuleType\": \"UAVSAR_INSAR_SCENE\",\n",
      "        \"groupID\": \"UA_grmesa_27416_21016-002_21017-017_0007d_s01_L090_01\",\n",
      "        \"insarStackId\": \"-1\",\n",
      "        \"md5sum\": \"2b2420de2b30254067ce856639080eda\",\n",
      "        \"offNadirAngle\": null,\n",
      "        \"orbit\": \"-1\",\n",
      "        \"pathNumber\": \"27416\",\n",
      "        \"perpendicularBaseline\": null,\n",
      "        \"platform\": \"UAVSAR\",\n",
      "        \"pointingAngle\": null,\n",
      "        \"polarization\": \"HH\",\n",
      "        \"processingDate\": \"2021-04-16T00:31:52Z\",\n",
      "        \"processingLevel\": \"INTERFEROMETRY_GRD\",\n",
      "        \"sceneName\": \"UA_grmesa_27416_21016-002_21017-017_0007d_s01_L090_01\",\n",
      "        \"sensor\": \"UAVSAR\",\n",
      "        \"startTime\": \"2021-03-03T22:03:00Z\",\n",
      "        \"stopTime\": \"2021-03-10T16:36:09Z\",\n",
      "        \"temporalBaseline\": null,\n",
      "        \"url\": \"https://datapool.asf.alaska.edu/INTERFEROMETRY_GRD/UA/grmesa_27416_21016-002_21017-017_0007d_s01_L090_01_int_grd.zip\"\n",
      "      },\n",
      "      \"type\": \"Feature\"\n",
      "    },\n",
      "    {\n",
      "      \"geometry\": {\n",
      "        \"coordinates\": [\n",
      "          [\n",
      "            [\n",
      "              -108.362438,\n",
      "              39.170228\n",
      "            ],\n",
      "            [\n",
      "              -107.883228,\n",
      "              39.117119\n",
      "            ],\n",
      "            [\n",
      "              -107.894959,\n",
      "              38.955075\n",
      "            ],\n",
      "            [\n",
      "              -108.371629,\n",
      "              38.984144\n",
      "            ],\n",
      "            [\n",
      "              -108.362438,\n",
      "              39.170228\n",
      "            ]\n",
      "          ]\n",
      "        ],\n",
      "        \"type\": \"Polygon\"\n",
      "      },\n",
      "      \"properties\": {\n",
      "        \"beamModeType\": \"RPI\",\n",
      "        \"browse\": [\n",
      "          \"https://datapool.asf.alaska.edu/BROWSE/UA/grmesa_27416_21011-010_21016-002_0021d_s01_L090HH_01.cor.png\",\n",
      "          \"https://datapool.asf.alaska.edu/BROWSE/UA/grmesa_27416_21011-010_21016-002_0021d_s01_L090HH_01.hgt.png\",\n",
      "          \"https://datapool.asf.alaska.edu/BROWSE/UA/grmesa_27416_21011-010_21016-002_0021d_s01_L090HV_01.cor.png\",\n",
      "          \"https://datapool.asf.alaska.edu/BROWSE/UA/grmesa_27416_21011-010_21016-002_0021d_s01_L090HV_01.hgt.png\",\n",
      "          \"https://datapool.asf.alaska.edu/BROWSE/UA/grmesa_27416_21011-010_21016-002_0021d_s01_L090VH_01.cor.png\",\n",
      "          \"https://datapool.asf.alaska.edu/BROWSE/UA/grmesa_27416_21011-010_21016-002_0021d_s01_L090VH_01.hgt.png\",\n",
      "          \"https://datapool.asf.alaska.edu/BROWSE/UA/grmesa_27416_21011-010_21016-002_0021d_s01_L090VV_01.cor.png\",\n",
      "          \"https://datapool.asf.alaska.edu/BROWSE/UA/grmesa_27416_21011-010_21016-002_0021d_s01_L090VV_01.hgt.png\"\n",
      "        ],\n",
      "        \"bytes\": \"1455221270\",\n",
      "        \"centerLat\": \"39.0574394224657\",\n",
      "        \"centerLon\": \"-108.133431122101\",\n",
      "        \"faradayRotation\": null,\n",
      "        \"fileID\": \"UA_grmesa_27416_21011-010_21016-002_0021d_s01_L090_01-INTERFEROMETRY_GRD\",\n",
      "        \"fileName\": \"grmesa_27416_21011-010_21016-002_0021d_s01_L090_01_int_grd.zip\",\n",
      "        \"flightDirection\": null,\n",
      "        \"frameNumber\": \"781\",\n",
      "        \"granuleType\": \"UAVSAR_INSAR_SCENE\",\n",
      "        \"groupID\": \"UA_grmesa_27416_21011-010_21016-002_0021d_s01_L090_01\",\n",
      "        \"insarStackId\": \"-1\",\n",
      "        \"md5sum\": \"fbe5803c3c1fe8a30820374f3713d059\",\n",
      "        \"offNadirAngle\": null,\n",
      "        \"orbit\": \"-1\",\n",
      "        \"pathNumber\": \"27416\",\n",
      "        \"perpendicularBaseline\": null,\n",
      "        \"platform\": \"UAVSAR\",\n",
      "        \"pointingAngle\": null,\n",
      "        \"polarization\": \"HH\",\n",
      "        \"processingDate\": \"2021-04-16T00:11:26Z\",\n",
      "        \"processingLevel\": \"INTERFEROMETRY_GRD\",\n",
      "        \"sceneName\": \"UA_grmesa_27416_21011-010_21016-002_0021d_s01_L090_01\",\n",
      "        \"sensor\": \"UAVSAR\",\n",
      "        \"startTime\": \"2021-02-10T19:12:13Z\",\n",
      "        \"stopTime\": \"2021-03-03T22:03:01Z\",\n",
      "        \"temporalBaseline\": null,\n",
      "        \"url\": \"https://datapool.asf.alaska.edu/INTERFEROMETRY_GRD/UA/grmesa_27416_21011-010_21016-002_0021d_s01_L090_01_int_grd.zip\"\n",
      "      },\n",
      "      \"type\": \"Feature\"\n",
      "    },\n",
      "    {\n",
      "      \"geometry\": {\n",
      "        \"coordinates\": [\n",
      "          [\n",
      "            [\n",
      "              -108.288036,\n",
      "              39.157745\n",
      "            ],\n",
      "            [\n",
      "              -107.915957,\n",
      "              39.121222\n",
      "            ],\n",
      "            [\n",
      "              -107.92889,\n",
      "              38.957674\n",
      "            ],\n",
      "            [\n",
      "              -108.300129,\n",
      "              38.979786\n",
      "            ],\n",
      "            [\n",
      "              -108.288036,\n",
      "              39.157745\n",
      "            ]\n",
      "          ]\n",
      "        ],\n",
      "        \"type\": \"Polygon\"\n",
      "      },\n",
      "      \"properties\": {\n",
      "        \"beamModeType\": \"RPI\",\n",
      "        \"browse\": [\n",
      "          \"https://datapool.asf.alaska.edu/BROWSE/UA/grmesa_27416_21010-002_21011-010_0007d_s01_L090HH_01.cor.png\",\n",
      "          \"https://datapool.asf.alaska.edu/BROWSE/UA/grmesa_27416_21010-002_21011-010_0007d_s01_L090HH_01.hgt.png\",\n",
      "          \"https://datapool.asf.alaska.edu/BROWSE/UA/grmesa_27416_21010-002_21011-010_0007d_s01_L090HV_01.cor.png\",\n",
      "          \"https://datapool.asf.alaska.edu/BROWSE/UA/grmesa_27416_21010-002_21011-010_0007d_s01_L090HV_01.hgt.png\",\n",
      "          \"https://datapool.asf.alaska.edu/BROWSE/UA/grmesa_27416_21010-002_21011-010_0007d_s01_L090VH_01.cor.png\",\n",
      "          \"https://datapool.asf.alaska.edu/BROWSE/UA/grmesa_27416_21010-002_21011-010_0007d_s01_L090VH_01.hgt.png\",\n",
      "          \"https://datapool.asf.alaska.edu/BROWSE/UA/grmesa_27416_21010-002_21011-010_0007d_s01_L090VV_01.cor.png\",\n",
      "          \"https://datapool.asf.alaska.edu/BROWSE/UA/grmesa_27416_21010-002_21011-010_0007d_s01_L090VV_01.hgt.png\"\n",
      "        ],\n",
      "        \"bytes\": \"1111500235\",\n",
      "        \"centerLat\": \"39.0544985651198\",\n",
      "        \"centerLon\": \"-108.110811873295\",\n",
      "        \"faradayRotation\": null,\n",
      "        \"fileID\": \"UA_grmesa_27416_21010-002_21011-010_0007d_s01_L090_01-INTERFEROMETRY_GRD\",\n",
      "        \"fileName\": \"grmesa_27416_21010-002_21011-010_0007d_s01_L090_01_int_grd.zip\",\n",
      "        \"flightDirection\": null,\n",
      "        \"frameNumber\": \"781\",\n",
      "        \"granuleType\": \"UAVSAR_INSAR_SCENE\",\n",
      "        \"groupID\": \"UA_grmesa_27416_21010-002_21011-010_0007d_s01_L090_01\",\n",
      "        \"insarStackId\": \"-1\",\n",
      "        \"md5sum\": \"ce357d3ecef793a58bb24b200099c2ab\",\n",
      "        \"offNadirAngle\": null,\n",
      "        \"orbit\": \"-1\",\n",
      "        \"pathNumber\": \"27416\",\n",
      "        \"perpendicularBaseline\": null,\n",
      "        \"platform\": \"UAVSAR\",\n",
      "        \"pointingAngle\": null,\n",
      "        \"polarization\": \"HH\",\n",
      "        \"processingDate\": \"2021-03-18T06:08:59Z\",\n",
      "        \"processingLevel\": \"INTERFEROMETRY_GRD\",\n",
      "        \"sceneName\": \"UA_grmesa_27416_21010-002_21011-010_0007d_s01_L090_01\",\n",
      "        \"sensor\": \"UAVSAR\",\n",
      "        \"startTime\": \"2021-02-03T23:50:36Z\",\n",
      "        \"stopTime\": \"2021-02-10T19:12:27Z\",\n",
      "        \"temporalBaseline\": null,\n",
      "        \"url\": \"https://datapool.asf.alaska.edu/INTERFEROMETRY_GRD/UA/grmesa_27416_21010-002_21011-010_0007d_s01_L090_01_int_grd.zip\"\n",
      "      },\n",
      "      \"type\": \"Feature\"\n",
      "    },\n",
      "    {\n",
      "      \"geometry\": {\n",
      "        \"coordinates\": [\n",
      "          [\n",
      "            [\n",
      "              -108.362007,\n",
      "              39.170014\n",
      "            ],\n",
      "            [\n",
      "              -107.883809,\n",
      "              39.117178\n",
      "            ],\n",
      "            [\n",
      "              -107.89605,\n",
      "              38.955144\n",
      "            ],\n",
      "            [\n",
      "              -108.372401,\n",
      "              38.98422\n",
      "            ],\n",
      "            [\n",
      "              -108.362007,\n",
      "              39.170014\n",
      "            ]\n",
      "          ]\n",
      "        ],\n",
      "        \"type\": \"Polygon\"\n",
      "      },\n",
      "      \"properties\": {\n",
      "        \"beamModeType\": \"RPI\",\n",
      "        \"browse\": [\n",
      "          \"https://datapool.asf.alaska.edu/BROWSE/UA/grmesa_27416_21007-004_21010-002_0007d_s01_L090HH_01.cor.png\",\n",
      "          \"https://datapool.asf.alaska.edu/BROWSE/UA/grmesa_27416_21007-004_21010-002_0007d_s01_L090HH_01.hgt.png\",\n",
      "          \"https://datapool.asf.alaska.edu/BROWSE/UA/grmesa_27416_21007-004_21010-002_0007d_s01_L090HV_01.cor.png\",\n",
      "          \"https://datapool.asf.alaska.edu/BROWSE/UA/grmesa_27416_21007-004_21010-002_0007d_s01_L090HV_01.hgt.png\",\n",
      "          \"https://datapool.asf.alaska.edu/BROWSE/UA/grmesa_27416_21007-004_21010-002_0007d_s01_L090VH_01.cor.png\",\n",
      "          \"https://datapool.asf.alaska.edu/BROWSE/UA/grmesa_27416_21007-004_21010-002_0007d_s01_L090VH_01.hgt.png\",\n",
      "          \"https://datapool.asf.alaska.edu/BROWSE/UA/grmesa_27416_21007-004_21010-002_0007d_s01_L090VV_01.cor.png\",\n",
      "          \"https://datapool.asf.alaska.edu/BROWSE/UA/grmesa_27416_21007-004_21010-002_0007d_s01_L090VV_01.hgt.png\"\n",
      "        ],\n",
      "        \"bytes\": \"1472114195\",\n",
      "        \"centerLat\": \"39.0574129798055\",\n",
      "        \"centerLon\": \"-108.133880111372\",\n",
      "        \"faradayRotation\": null,\n",
      "        \"fileID\": \"UA_grmesa_27416_21007-004_21010-002_0007d_s01_L090_01-INTERFEROMETRY_GRD\",\n",
      "        \"fileName\": \"grmesa_27416_21007-004_21010-002_0007d_s01_L090_01_int_grd.zip\",\n",
      "        \"flightDirection\": null,\n",
      "        \"frameNumber\": \"781\",\n",
      "        \"granuleType\": \"UAVSAR_INSAR_SCENE\",\n",
      "        \"groupID\": \"UA_grmesa_27416_21007-004_21010-002_0007d_s01_L090_01\",\n",
      "        \"insarStackId\": \"-1\",\n",
      "        \"md5sum\": \"99ae91081bec2c926991af2b8dcc53fd\",\n",
      "        \"offNadirAngle\": null,\n",
      "        \"orbit\": \"-1\",\n",
      "        \"pathNumber\": \"27416\",\n",
      "        \"perpendicularBaseline\": null,\n",
      "        \"platform\": \"UAVSAR\",\n",
      "        \"pointingAngle\": null,\n",
      "        \"polarization\": \"HH\",\n",
      "        \"processingDate\": \"2021-03-18T06:39:01Z\",\n",
      "        \"processingLevel\": \"INTERFEROMETRY_GRD\",\n",
      "        \"sceneName\": \"UA_grmesa_27416_21007-004_21010-002_0007d_s01_L090_01\",\n",
      "        \"sensor\": \"UAVSAR\",\n",
      "        \"startTime\": \"2021-01-27T19:47:02Z\",\n",
      "        \"stopTime\": \"2021-02-03T23:50:19Z\",\n",
      "        \"temporalBaseline\": null,\n",
      "        \"url\": \"https://datapool.asf.alaska.edu/INTERFEROMETRY_GRD/UA/grmesa_27416_21007-004_21010-002_0007d_s01_L090_01_int_grd.zip\"\n",
      "      },\n",
      "      \"type\": \"Feature\"\n",
      "    }\n",
      "  ],\n",
      "  \"type\": \"FeatureCollection\"\n",
      "}\n"
     ]
    }
   ],
   "source": [
    "print(results)"
   ]
  },
  {
   "cell_type": "code",
   "execution_count": null,
   "id": "708992c7-6ce8-4d9b-a7d5-a06c4f4af59a",
   "metadata": {},
   "outputs": [],
   "source": []
  }
 ],
 "metadata": {
  "kernelspec": {
   "display_name": "uavsar_pytools",
   "language": "python",
   "name": "uavsar_pytools"
  },
  "language_info": {
   "codemirror_mode": {
    "name": "ipython",
    "version": 3
   },
   "file_extension": ".py",
   "mimetype": "text/x-python",
   "name": "python",
   "nbconvert_exporter": "python",
   "pygments_lexer": "ipython3",
   "version": "3.10.5"
  }
 },
 "nbformat": 4,
 "nbformat_minor": 5
}
